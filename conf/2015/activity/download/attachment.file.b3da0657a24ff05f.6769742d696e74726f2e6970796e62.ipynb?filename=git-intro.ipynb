{
 "metadata": {
  "celltoolbar": "Slideshow",
  "name": "",
  "signature": "sha256:35e8f7ab860694aea71fe2a7d24ffc15b128007dcb349094aa52d49f4343e589"
 },
 "nbformat": 3,
 "nbformat_minor": 0,
 "worksheets": [
  {
   "cells": [
    {
     "cell_type": "markdown",
     "metadata": {
      "slideshow": {
       "slide_type": "slide"
      }
     },
     "source": [
      "![](files/git-logo.png)\n",
      "\n",
      "Versionado de c\u00f3digo con Git\n",
      "============================\n",
      "\n",
      "Juan Pedro Fisanotti"
     ]
    },
    {
     "cell_type": "markdown",
     "metadata": {
      "slideshow": {
       "slide_type": "slide"
      }
     },
     "source": [
      "El problema\n",
      "==========="
     ]
    },
    {
     "cell_type": "markdown",
     "metadata": {
      "slideshow": {
       "slide_type": "subslide"
      }
     },
     "source": [
      "Problema 1\n",
      "==========\n",
      "\n",
      "Trabajamos con c\u00f3digo, y el c\u00f3digo **cambia mucho**.\n",
      "\n",
      "![](files/problem-file-changes.svg)"
     ]
    },
    {
     "cell_type": "markdown",
     "metadata": {
      "slideshow": {
       "slide_type": "subslide"
      }
     },
     "source": [
      "\u00bfC\u00f3mo estaba esta funci\u00f3n en la versi\u00f3n pasada?\n",
      "\n",
      "\u00bfPor qu\u00e9 y c\u00faando se cambi\u00f3 el valor de este par\u00e1metro?\n",
      "\n",
      "\u00bfQu\u00e9 cambios hice en este archivo desde que arranqu\u00e9 con la tarea 21?\n",
      "\n",
      "\u00bfC\u00f3mo deshago los cambios que hice en la tarea 32?"
     ]
    },
    {
     "cell_type": "markdown",
     "metadata": {
      "slideshow": {
       "slide_type": "subslide"
      }
     },
     "source": [
      "Problema 2\n",
      "==========\n",
      "\n",
      "Trabajamos con otras personas en **paralelo sobre lo mismo**.\n",
      "\n",
      "![](files/problem-many-devs.svg)"
     ]
    },
    {
     "cell_type": "markdown",
     "metadata": {
      "slideshow": {
       "slide_type": "subslide"
      }
     },
     "source": [
      "\u00bfQui\u00e9n agreg\u00f3 este paso extra en el loop? \u00bfPara qu\u00e9?\n",
      "\n",
      "\u00bfC\u00f3mo combinamos el trabajo que hicimos los dos en este archivo?\n",
      "\n",
      "\u00bfC\u00f3mo les comparto mis cambios al resto?\n",
      "\n",
      "\u00bfMe faltan cambios de los dem\u00e1s en mis archivos?\n",
      "\n",
      "\u00bfQui\u00e9n tiene la versi\u00f3n estable?"
     ]
    },
    {
     "cell_type": "markdown",
     "metadata": {
      "slideshow": {
       "slide_type": "slide"
      }
     },
     "source": [
      "Las soluciones del prec\u00e1mbrico computacional\n",
      "============================================"
     ]
    },
    {
     "cell_type": "markdown",
     "metadata": {
      "slideshow": {
       "slide_type": "subslide"
      }
     },
     "source": [
      "Soluci\u00f3n al Problema 1\n",
      "======================\n",
      "\n",
      "Carpetas \"Proyecto 2014-10-1\", \"Proyecto 2014-10-2\", ... (zipeadas?)\n",
      "\n",
      "O una herramienta que haga snapshots (backups) a intervalos de tiempo."
     ]
    },
    {
     "cell_type": "markdown",
     "metadata": {
      "slideshow": {
       "slide_type": "subslide"
      }
     },
     "source": [
      "![](files/mani-folders.svg)"
     ]
    },
    {
     "cell_type": "markdown",
     "metadata": {
      "slideshow": {
       "slide_type": "subslide"
      }
     },
     "source": [
      "?\n",
      "===\n",
      "\n",
      "\u00bfSoluciona el problema?"
     ]
    },
    {
     "cell_type": "markdown",
     "metadata": {
      "slideshow": {
       "slide_type": "fragment"
      }
     },
     "source": [
      "Muy poco, y con demasiado trabajo."
     ]
    },
    {
     "cell_type": "markdown",
     "metadata": {
      "slideshow": {
       "slide_type": "subslide"
      }
     },
     "source": [
      "Soluci\u00f3n al Problema 2\n",
      "======================\n",
      "    \n",
      "FTP, o alg\u00fan tipo de servidor de archivos compartidos.\n",
      "\n",
      "Carpetas dentro del servidor para versiones estable, en desarrollo, etc.\n",
      "\n",
      "Alg\u00fan mecanismo de \"yo estoy trabajando en esto, no lo toquen\" (mail? chat? avi\u00f3n de papel?)"
     ]
    },
    {
     "cell_type": "markdown",
     "metadata": {
      "slideshow": {
       "slide_type": "subslide"
      }
     },
     "source": [
      "![](files/file-server.svg)"
     ]
    },
    {
     "cell_type": "markdown",
     "metadata": {
      "slideshow": {
       "slide_type": "subslide"
      }
     },
     "source": [
      "?\n",
      "===\n",
      "\n",
      "\u00bfSoluciona el problema?"
     ]
    },
    {
     "cell_type": "markdown",
     "metadata": {
      "slideshow": {
       "slide_type": "fragment"
      }
     },
     "source": [
      "Muy poco, y con demasiado trabajo."
     ]
    },
    {
     "cell_type": "markdown",
     "metadata": {
      "slideshow": {
       "slide_type": "slide"
      }
     },
     "source": [
      "Las soluciones actuales\n",
      "======================="
     ]
    },
    {
     "cell_type": "markdown",
     "metadata": {
      "slideshow": {
       "slide_type": "fragment"
      }
     },
     "source": [
      "**Ambos problemas** se solucionan utilizando alguna herramienta de **versionado de c\u00f3digo**."
     ]
    },
    {
     "cell_type": "markdown",
     "metadata": {
      "slideshow": {
       "slide_type": "fragment"
      }
     },
     "source": [
      "Hay muchas. Mi preferida (y m\u00e1s popular actualmente) es **Git**.\n",
      "\n",
      "Otras: SVN, Mercurial, Bazaar, Ms TFS, ..."
     ]
    },
    {
     "cell_type": "markdown",
     "metadata": {
      "slideshow": {
       "slide_type": "subslide"
      }
     },
     "source": [
      "Nociones b\u00e1sicas de versionado\n",
      "==============================\n",
      "\n",
      "(distribu\u00eddo)"
     ]
    },
    {
     "cell_type": "markdown",
     "metadata": {
      "slideshow": {
       "slide_type": "subslide"
      }
     },
     "source": [
      "Repositorio\n",
      "===========\n",
      "\n",
      "**Aparte** de los archivos, en cada m\u00e1quina [y en un servidor] tenemos un repositorio.\n",
      "\n",
      "Es una **base de datos** de cambios.\n",
      "\n",
      "Guarda la **historia de nuestros cambios**, con contenido y metadatos \u00fatiles."
     ]
    },
    {
     "cell_type": "markdown",
     "metadata": {
      "slideshow": {
       "slide_type": "subslide"
      }
     },
     "source": [
      "![](files/repo.svg)"
     ]
    },
    {
     "cell_type": "markdown",
     "metadata": {
      "slideshow": {
       "slide_type": "subslide"
      }
     },
     "source": [
      "![](files/repos.svg)"
     ]
    },
    {
     "cell_type": "markdown",
     "metadata": {
      "slideshow": {
       "slide_type": "subslide"
      }
     },
     "source": [
      "Commit\n",
      "======\n",
      "\n",
      "Es una \"foto\" del proyecto en un momento dado.\n",
      "\n",
      "Tiene un **id** \u00fanico.\n",
      "\n",
      "Tiene **metadatos** muy importantes: cu\u00e1ndo? qui\u00e9n? qu\u00e9 cambi\u00f3? por qu\u00e9?"
     ]
    },
    {
     "cell_type": "markdown",
     "metadata": {
      "slideshow": {
       "slide_type": "subslide"
      }
     },
     "source": [
      "![](files/commit.svg)"
     ]
    },
    {
     "cell_type": "markdown",
     "metadata": {
      "slideshow": {
       "slide_type": "subslide"
      }
     },
     "source": [
      "Historia de commits\n",
      "===================\n",
      "\n",
      "Los commits est\u00e1n \"encadenados\". Cada commit tiene 1 o m\u00e1s padres.\n",
      "\n",
      "**No se repiten** los archivos que no cambiaron.\n",
      "\n",
      "Se puede facilmente navegar esa historia de cambios."
     ]
    },
    {
     "cell_type": "markdown",
     "metadata": {
      "slideshow": {
       "slide_type": "subslide"
      }
     },
     "source": [
      "![](files/commits.svg)"
     ]
    },
    {
     "cell_type": "markdown",
     "metadata": {
      "slideshow": {
       "slide_type": "subslide"
      }
     },
     "source": [
      "Repo vs Working copy\n",
      "====================\n",
      "\n",
      "Working copy: son los **archivos** que nosotros editamos, nuestro c\u00f3digo.\n",
      "\n",
      "Podemos **commitear**: crear un nuevo commit a partir de los cambios en los archivos.\n",
      "\n",
      "Podemos **checkoutear**: traernos a nuestros archivos cualquier versi\u00f3n pasada de la historia."
     ]
    },
    {
     "cell_type": "markdown",
     "metadata": {
      "slideshow": {
       "slide_type": "subslide"
      }
     },
     "source": [
      "![](files/repo-vs-working-copy.svg)"
     ]
    },
    {
     "cell_type": "markdown",
     "metadata": {
      "slideshow": {
       "slide_type": "subslide"
      }
     },
     "source": [
      "Sincronizaci\u00f3n de repositorios\n",
      "==============================\n",
      "\n",
      "Podemos enviar commits de nuestro repositorio a otro (**push**).\n",
      "\n",
      "Podemos traernos commits de otro repositorio al nuestro (**pull**)."
     ]
    },
    {
     "cell_type": "markdown",
     "metadata": {
      "slideshow": {
       "slide_type": "subslide"
      }
     },
     "source": [
      "![](files/repos-sync.svg)"
     ]
    },
    {
     "cell_type": "markdown",
     "metadata": {
      "slideshow": {
       "slide_type": "subslide"
      }
     },
     "source": [
      "Branching\n",
      "=========\n",
      "\n",
      "Es posible tener m\u00faltiples ramas de trabajo **paralelas**.\n",
      "\n",
      "Se pueden separar y reunir (**merge**).\n",
      "\n",
      "El **merge** anda muy bien.\n",
      "\n",
      "**Siempre** estamos trabajando en un branch. Cuando commiteamos, el branch **avanza**."
     ]
    },
    {
     "cell_type": "markdown",
     "metadata": {
      "slideshow": {
       "slide_type": "subslide"
      }
     },
     "source": [
      "![](files/branches.svg)"
     ]
    },
    {
     "cell_type": "markdown",
     "metadata": {
      "slideshow": {
       "slide_type": "subslide"
      }
     },
     "source": [
      "Flujos de trabajo normales\n",
      "=========================="
     ]
    },
    {
     "cell_type": "markdown",
     "metadata": {
      "slideshow": {
       "slide_type": "subslide"
      }
     },
     "source": [
      "![](files/flow-simple.svg)"
     ]
    },
    {
     "cell_type": "markdown",
     "metadata": {
      "slideshow": {
       "slide_type": "subslide"
      }
     },
     "source": [
      "![](files/flow-branch.svg)"
     ]
    },
    {
     "cell_type": "markdown",
     "metadata": {
      "slideshow": {
       "slide_type": "subslide"
      }
     },
     "source": [
      "Y otros m\u00e1s complejos que podemos conversar en el pasillo :)"
     ]
    },
    {
     "cell_type": "markdown",
     "metadata": {
      "slideshow": {
       "slide_type": "slide"
      }
     },
     "source": [
      "Utilizando Git\n",
      "==============\n",
      "\n",
      "Demo pr\u00e1ctica."
     ]
    },
    {
     "cell_type": "markdown",
     "metadata": {
      "slideshow": {
       "slide_type": "slide"
      }
     },
     "source": [
      "?\n",
      "==="
     ]
    },
    {
     "cell_type": "markdown",
     "metadata": {
      "slideshow": {
       "slide_type": "subslide"
      }
     },
     "source": [
      "Links \u00fatiles\n",
      "============\n",
      "\n",
      "[Sitio oficial de git, con docs, y m\u00e1s](http://git-scm.com/)\n",
      "\n",
      "[Github, servicio para hostear repositorios git p\u00fablicos gratuitamente](https://github.com/)\n",
      "\n",
      "[Un muy buen tutorial interactivo de git](https://try.github.io/levels/1/challenges/1)"
     ]
    }
   ],
   "metadata": {}
  }
 ]
}